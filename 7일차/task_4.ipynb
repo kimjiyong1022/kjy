{
 "cells": [
  {
   "cell_type": "markdown",
   "metadata": {},
   "source": [
    "사용자 정의 예외 NegativeNumberError를 생성하고, 사용자로부터 숫자를 입력받아 음수일 경우 NegativeNumberError를 발생시키는 프로그램을 작성하세요. \n",
    "\n",
    "- 예외 처리 구문을 사용하여 음수 입력 시 \"양수를 입력해주세요.\"라는 메시지를 출력"
   ]
  },
  {
   "cell_type": "code",
   "execution_count": null,
   "metadata": {
    "vscode": {
     "languageId": "plaintext"
    }
   },
   "outputs": [],
   "source": [
    "class NegativeNumberError(Exception):\n",
    "    \"\"\"음수가 입력되었을 때 발생하는 예외\"\"\"\n",
    "    pass\n",
    "\n",
    "def input_number():\n",
    "    while True:\n",
    "        try:\n",
    "            num = int(input(\"숫자를 입력하세요: \"))\n",
    "            if num < 0:\n",
    "                raise NegativeNumberError(\"음수가 입력되었습니다.\")\n",
    "            else:\n",
    "                return num\n",
    "        except NegativeNumberError:\n",
    "            print(\"양수를 입력해주세요.\")"
   ]
  }
 ],
 "metadata": {
  "language_info": {
   "name": "python"
  }
 },
 "nbformat": 4,
 "nbformat_minor": 2
}
